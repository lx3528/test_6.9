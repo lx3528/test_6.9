{
 "cells": [
  {
   "cell_type": "code",
   "execution_count": 4,
   "metadata": {},
   "outputs": [
    {
     "name": "stdout",
     "output_type": "stream",
     "text": [
      "Image size: 3120 3\n"
     ]
    },
    {
     "data": {
      "text/plain": [
       "True"
      ]
     },
     "execution_count": 4,
     "metadata": {},
     "output_type": "execute_result"
    }
   ],
   "source": [
    "import cv2\n",
    "import numpy as np\n",
    "\n",
    "def resizeImage(image,width=None,height=None,inter=cv2.INTER_AREA):\n",
    "    newsize = (width,height)\n",
    "    #获取图像尺寸\n",
    "    (h,w) = image.shape[:2]\n",
    "    if width is None and height is None:\n",
    "        return image\n",
    "    #高度算缩放比例\n",
    "    if width is None:\n",
    "        n = height/float(h)\n",
    "        newsize = (int(n*w),height)\n",
    "    else :\n",
    "        n = width/float(w)\n",
    "        newsize = (width,int(h*n))\n",
    "    # 缩放图像\n",
    "    newimage = cv2.resize(image, newsize, interpolation=inter)\n",
    "    return newimage\n",
    "\n",
    "\n",
    "imageOriginal= cv2.imread('12.jpg')\n",
    "#先试试灰阶\n",
    "GrayImg = cv2.cvtColor(src=imageOriginal, code=cv2.COLOR_BGR2GRAY)\n",
    "\n",
    "# cv2.imshow(\"Original\", imageOriginal)\n",
    "# cv2.waitKey(0)###等待0ms后，看是否有输出\n",
    "# cv2.destroyAllWindows()###uganbi\n",
    "#获取图像尺寸\n",
    "w = width=imageOriginal.shape[1]\n",
    "h = width=imageOriginal.shape[2]\n",
    "print (\"Image size:\",w,h)\n",
    "# #放大2倍\n",
    "# newimage = resizeImage(imageOriginal,w*2,h*2,cv2.INTER_LINEAR)\n",
    "# cv2.imshow(\"New\", newimage)\n",
    "# #保存缩放后的图像\n",
    "# cv2.imwrite('newimage.jpg',newimage)\n",
    "#缩小5倍\n",
    "newimage2 = resizeImage(imageOriginal,int(w/5),int(h/5),cv2.INTER_LINEAR)\n",
    "cv2.imwrite('12_suofang0.5.jpg',newimage2)"
   ]
  },
  {
   "cell_type": "code",
   "execution_count": 1,
   "metadata": {},
   "outputs": [
    {
     "name": "stdout",
     "output_type": "stream",
     "text": [
      "finish\n",
      "finish\n"
     ]
    }
   ],
   "source": [
    "import cv2\n",
    "import numpy as np\n",
    "\n",
    "####黑白兑换后，腐蚀膨胀就行\n",
    "img1 = cv2.imread('12_suofang0.5.jpg')\n",
    "imgray = cv2.cvtColor(img1,cv2.COLOR_BGR2GRAY)\n",
    "blur1= cv2.bilateralFilter(imgray,9,75,75)\n",
    "blur2 = cv2.GaussianBlur(imgray,(5,5),0)\n",
    "blur3=cv2.medianBlur(imgray,5)\n",
    "thres1=97\n",
    "# cv2.imshow(\"bilateral\", blur1)\n",
    "# cv2.imshow(\"gaussian\", blur2)\n",
    "# cv2.imshow(\"median\", blur3)\n",
    "# ret,th21=cv2.threshold(blur1 ,60,255,cv2.THRESH_BINARY)\n",
    "# ret,th22=cv2.threshold(blur1 ,70,255,cv2.THRESH_BINARY)\n",
    "# ret,th23=cv2.threshold(blur1 ,80,255,cv2.THRESH_BINARY)\n",
    "# ret,th24=cv2.threshold(blur1 ,90,255,cv2.THRESH_BINARY)###比第二各参数高，所赋予的值，为第三个\n",
    "# cv2.imshow(\"th21\", th21)\n",
    "# cv2.imshow(\"th22\", th22)\n",
    "# cv2.imshow(\"th23\", th23)\n",
    "# cv2.imshow(\"th24\", th24)\n",
    "ret,th25=cv2.threshold(blur1 ,85,255,cv2.THRESH_BINARY_INV)\n",
    "# ret,th23=cv2.threshold(blur,thres1,255,cv2.THRESH_BINARY_INV)###反向，二值化\n",
    "print('finish')\n",
    "# cv2.imshow(\"Original\", blur2)\n",
    "\n",
    "#  # douxing??\n",
    "# img = cv2.adaptiveThreshold(img ,255,cv2.ADAPTIVE_THRESH_GAUSSIAN_C,\\\n",
    "#             cv2.THRESH_BINARY,11,3)\n",
    "# # img3 = cv2.adaptiveThreshold(img ,255,cv2.ADAPTIVE_THRESH_GAUSSIAN_C,\\\n",
    "# #             cv2.THRESH_BINARY,11,3)\n",
    "# cv2.imshow(\"Original-g\", img)\n",
    "\n",
    "\n",
    "# cv2.imshow(\"Original-means\", img3)\n",
    "kernel1 = np.ones((5,5),np.uint8)\n",
    "# erosion1 = cv2.erode(th25,kernel1,iterations = 1)\n",
    "# erosion2 = cv2.erode(img,kernel1,iterations = 4)###v-394,得到下面曲线的\n",
    "# erosion4 = cv2.erode(img,kernel1,iterations = 5)\n",
    "# erosion5 = cv2.erode(img,kernel1,iterations = 6)\n",
    "\n",
    "th25.shape###(v,x)(832, 624)\n",
    "th25_resize=th25[:,:610]\n",
    "th25_resize.shape\n",
    "th25_resize[820:,520:]=0\n",
    "th25=th25_resize\n",
    "dilate0 = cv2.dilate(th25,kernel1,iterations = 0)##610\n",
    "dilate2 = cv2.dilate(th25,kernel1,iterations = 3)\n",
    "dilate4 = cv2.dilate(th25,kernel1,iterations = 4)\n",
    "dilate6 = cv2.dilate(th25,kernel1,iterations = 5)\n",
    "dilate8 = cv2.dilate(th25,kernel1,iterations = 6)\n",
    "cv2.imshow(\"dilate0\", dilate0)\n",
    "cv2.imshow(\"dilate3\", dilate2)\n",
    "cv2.imshow(\"dilate4\", dilate4)\n",
    "cv2.imshow(\"dilate5\", dilate6)\n",
    "cv2.imshow(\"dilate6\", dilate8)\n",
    "xia_12=dilate4[394:,:]\n",
    "while(1):\n",
    "    if cv2.waitKey(100) & 0xFF == ord('q'):\n",
    "        break\n",
    "    ###等待0ms后，看是否有输出\n",
    "    \n",
    "cv2.destroyAllWindows()###uganbi\n",
    "print('finish')"
   ]
  },
  {
   "cell_type": "code",
   "execution_count": 2,
   "metadata": {},
   "outputs": [
    {
     "name": "stdout",
     "output_type": "stream",
     "text": [
      "1\n"
     ]
    }
   ],
   "source": [
    "xia_12=dilate4[394:,:]\n",
    "image, contours, hierarchy = cv2.findContours(xia_12,cv2.RETR_TREE,cv2.CHAIN_APPROX_TC89_L1)##\n",
    "print(len(contours))\n",
    "# while(1):\n",
    "#     if cv2.waitKey(100) & 0xFF == ord('q'):\n",
    "#         break"
   ]
  },
  {
   "cell_type": "code",
   "execution_count": 25,
   "metadata": {},
   "outputs": [
    {
     "name": "stdout",
     "output_type": "stream",
     "text": [
      "finish\n"
     ]
    }
   ],
   "source": [
    "er1 = cv2.erode(th25,kernel1,iterations = 2)\n",
    "cv2.imshow(\"er1er1\", er1)\n",
    "while(1):\n",
    "    if cv2.waitKey(100) & 0xFF == ord('q'):\n",
    "        break\n",
    "    ###等待0ms后，看是否有输出\n",
    "    \n",
    "cv2.destroyAllWindows()###uganbi\n",
    "print('finish')"
   ]
  },
  {
   "cell_type": "code",
   "execution_count": null,
   "metadata": {
    "collapsed": true
   },
   "outputs": [],
   "source": [
    "th25.shape###(v,x)(832, 624)\n",
    "th25_resize=th25[:,:610]\n",
    "th25_resize.shape\n",
    "th25_resize[820:,520:]=0\n",
    "cv2.imshow(\"resize_25\", th25_resize)\n",
    "while(1):\n",
    "    if cv2.waitKey(100) & 0xFF == ord('q'):\n",
    "        break\n",
    "cv2.destroyAllWindows()###uganbi\n",
    "print('finish')"
   ]
  },
  {
   "cell_type": "code",
   "execution_count": null,
   "metadata": {},
   "outputs": [
    {
     "name": "stdout",
     "output_type": "stream",
     "text": [
      "[[[-1 -1 -1 -1]]]\n",
      "122\n"
     ]
    }
   ],
   "source": [
    "import cv2\n",
    "import numpy as np\n",
    "\n",
    "####黑白兑换后，腐蚀膨胀就行\n",
    "img1 = cv2.imread('12_suofang0.5.jpg')\n",
    "imgray = cv2.cvtColor(img1,cv2.COLOR_BGR2GRAY)\n",
    "blur1= cv2.bilateralFilter(imgray,9,75,75)\n",
    "ret,th25=cv2.threshold(blur1 ,85,255,cv2.THRESH_BINARY_INV)\n",
    "\n",
    "kernel1 = np.ones((5,5),np.uint8)\n",
    "\n",
    "th25.shape###(v,x)(832, 624)\n",
    "th25_resize=th25[:,:610]\n",
    "th25_resize.shape\n",
    "th25_resize[820:,520:]=0\n",
    "\n",
    "xia_12=th25_resize[394:,:]\n",
    "dilate5 = cv2.dilate(xia_12,kernel1,iterations =5)\n",
    "\n",
    "cv2.imshow(\"dilate5\", dilate5)\n",
    "#cv2.CHAIN_APPROX_SIMPLE  cv2.CHAIN_APPROX_TC89_L1\n",
    "image, contours, hierarchy = cv2.findContours(dilate5 ,cv2.RETR_TREE,cv2.CHAIN_APPROX_TC89_KCOS)##\n",
    "print(hierarchy)\n",
    "\n",
    "bin33=[]\n",
    "for i in range(len(contours)):\n",
    "    bin33.append(np.ones(image.shape, np.uint8) * 255)\n",
    "\n",
    "\n",
    "i=0\n",
    "img_2 = cv2.drawContours(bin33[i], contours[i], -1, (0, 255, 0), 2)\n",
    "cv2.imshow('binimg22', bin33[i])\n",
    "print(len(contours[i]))\n",
    "\n",
    "while(1):\n",
    "    if cv2.waitKey(100) & 0xFF == ord('q'):\n",
    "        break\n",
    "    ###等待0ms后，看是否有输出\n",
    "    \n",
    "cv2.destroyAllWindows()###uganbi\n",
    "print('finish')\n"
   ]
  },
  {
   "cell_type": "code",
   "execution_count": 20,
   "metadata": {
    "collapsed": true
   },
   "outputs": [],
   "source": [
    "ab=np.save('contours_12.npy',contours[0])\n",
    "c=np.squeeze(contours[0])##jiangwei\n",
    "#\n",
    "import pandas as pd\n",
    "df=pd.DataFrame(c,index=None,columns=None)\n",
    "df.to_excel('12_output.xlsx',index=None,columns=None)"
   ]
  },
  {
   "cell_type": "code",
   "execution_count": 9,
   "metadata": {},
   "outputs": [
    {
     "name": "stdout",
     "output_type": "stream",
     "text": [
      "finish\n"
     ]
    }
   ],
   "source": [
    "th25=xia_12\n",
    "dilate0 = cv2.dilate(th25,kernel1,iterations = 0)##610\n",
    "dilate2 = cv2.dilate(th25,kernel1,iterations = 3)\n",
    "dilate4 = cv2.dilate(th25,kernel1,iterations = 4)\n",
    "dilate6 = cv2.dilate(th25,kernel1,iterations = 5)\n",
    "dilate8 = cv2.dilate(th25,kernel1,iterations = 6)\n",
    "cv2.imshow(\"dilate0\", dilate0)\n",
    "cv2.imshow(\"dilate3\", dilate2)\n",
    "cv2.imshow(\"dilate4\", dilate4)\n",
    "cv2.imshow(\"dilate5\", dilate6)\n",
    "cv2.imshow(\"dilate6\", dilate8)\n",
    "xia_12=dilate4[394:,:]\n",
    "while(1):\n",
    "    if cv2.waitKey(100) & 0xFF == ord('q'):\n",
    "        break\n",
    "    ###等待0ms后，看是否有输出\n",
    "    \n",
    "cv2.destroyAllWindows()###uganbi\n",
    "print('finish')"
   ]
  },
  {
   "cell_type": "code",
   "execution_count": null,
   "metadata": {
    "collapsed": true
   },
   "outputs": [],
   "source": [
    "import math\n",
    "print(math.atan(1.176)*180/3.14)\n"
   ]
  },
  {
   "cell_type": "code",
   "execution_count": null,
   "metadata": {
    "collapsed": true
   },
   "outputs": [],
   "source": [
    "import math\n",
    "print(math.atan(1.176)*180/3.14)"
   ]
  },
  {
   "cell_type": "code",
   "execution_count": null,
   "metadata": {
    "collapsed": true
   },
   "outputs": [],
   "source": []
  }
 ],
 "metadata": {
  "kernelspec": {
   "display_name": "Python [conda root]",
   "language": "python",
   "name": "conda-root-py"
  },
  "language_info": {
   "codemirror_mode": {
    "name": "ipython",
    "version": 3
   },
   "file_extension": ".py",
   "mimetype": "text/x-python",
   "name": "python",
   "nbconvert_exporter": "python",
   "pygments_lexer": "ipython3",
   "version": "3.5.3"
  }
 },
 "nbformat": 4,
 "nbformat_minor": 2
}
